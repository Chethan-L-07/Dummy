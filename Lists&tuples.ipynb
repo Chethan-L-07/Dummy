{
  "nbformat": 4,
  "nbformat_minor": 0,
  "metadata": {
    "colab": {
      "provenance": [],
      "authorship_tag": "ABX9TyOpQUeiVFC2uqpiK9Ac8Oo/",
      "include_colab_link": true
    },
    "kernelspec": {
      "name": "python3",
      "display_name": "Python 3"
    },
    "language_info": {
      "name": "python"
    }
  },
  "cells": [
    {
      "cell_type": "markdown",
      "metadata": {
        "id": "view-in-github",
        "colab_type": "text"
      },
      "source": [
        "<a href=\"https://colab.research.google.com/github/Chethan-L-07/Dummy/blob/main/Lists%26tuples.ipynb\" target=\"_parent\"><img src=\"https://colab.research.google.com/assets/colab-badge.svg\" alt=\"Open In Colab\"/></a>"
      ]
    },
    {
      "cell_type": "code",
      "execution_count": 35,
      "metadata": {
        "id": "gBdcl541Jzav",
        "colab": {
          "base_uri": "https://localhost:8080/"
        },
        "outputId": "1e941ab8-8600-4634-b1cf-68a6c53441e2"
      },
      "outputs": [
        {
          "output_type": "stream",
          "name": "stdout",
          "text": [
            "['Apple', 'orange', 'bananaa', 'chethan']\n",
            "\n",
            "\n",
            "Updated list is :  ['Apple', 'orange', 'bananaa']\n",
            "\n",
            "\n",
            "['Apple', 'grapes', 'orange', 'bananaa']\n",
            "\n",
            "\n",
            "['grapes', 'orange', 'bananaa']\n",
            "{'chethan', 19, 60, 'vinay'}\n"
          ]
        }
      ],
      "source": [
        "#Lists\n",
        "\n",
        "list = [\"Apple\",\"orange\",\"bananaa\"]\n",
        "list.append(\"chethan\")\n",
        "print(list)\n",
        "print(\"\\n\")\n",
        "\n",
        "list.pop(3)\n",
        "print(f\"Updated list is : \",list)\n",
        "print(\"\\n\")\n",
        "\n",
        "list.insert(1,\"grapes\")\n",
        "print(list)\n",
        "print(\"\\n\")\n",
        "\n",
        "list.remove(\"Apple\")\n",
        "print(list)\n",
        "\n",
        "list.insert(3,\"apple\")\n",
        "print(fruit)\n",
        "\n",
        "\n"
      ]
    },
    {
      "cell_type": "code",
      "source": [
        "#Tuples\n",
        "\n",
        "# fruit =  {\"chethan\",19,60}\n",
        "print(fruit)\n",
        "fruit.add(\"vinay\")\n",
        "print(fruit)\n",
        "\n"
      ],
      "metadata": {
        "colab": {
          "base_uri": "https://localhost:8080/"
        },
        "id": "vIjAanV-OrtA",
        "outputId": "002552db-23b6-4bde-c06d-076aae0404ac"
      },
      "execution_count": 36,
      "outputs": [
        {
          "output_type": "stream",
          "name": "stdout",
          "text": [
            "{'chethan', 19, 60, 'vinay'}\n",
            "{'chethan', 19, 60, 'vinay'}\n"
          ]
        }
      ]
    }
  ]
}